{
 "cells": [
  {
   "cell_type": "code",
   "execution_count": 2,
   "metadata": {},
   "outputs": [],
   "source": [
    "import fasttext\n",
    "from tira.rest_api_client import Client"
   ]
  },
  {
   "cell_type": "code",
   "execution_count": 3,
   "metadata": {},
   "outputs": [],
   "source": [
    "tira = Client()\n",
    "\n",
    "text = tira.pd.inputs(\n",
    "    \"nlpbuw-fsu-sose-24\", \"language-identification-train-20240429-training\"\n",
    ")\n",
    "text = text.set_index(\"id\")\n",
    "labels = tira.pd.truths(\n",
    "    \"nlpbuw-fsu-sose-24\", \"language-identification-train-20240429-training\"\n",
    ")\n",
    "df_train = text.join(labels.set_index(\"id\"))\n",
    "\n",
    "with open(\"train_data.txt\", \"w\", encoding=\"utf-8\") as f:\n",
    "    for idx, row in df_train.iterrows():\n",
    "        line = row['text'] + \" __label__\" + row['lang'] + \"\\n\"\n",
    "        f.write(line)"
   ]
  },
  {
   "cell_type": "code",
   "execution_count": 4,
   "metadata": {},
   "outputs": [
    {
     "name": "stderr",
     "output_type": "stream",
     "text": [
      "Read 23M words\n",
      "Number of words:  3353931\n",
      "Number of labels: 20\n",
      "Progress: 100.0% words/sec/thread: 2459300 lr:  0.000000 avg.loss:  0.027941 ETA:   0h 0m 0s\n"
     ]
    }
   ],
   "source": [
    "model = fasttext.train_supervised(input=\"train_data.txt\", epoch=10, lr=0.1)"
   ]
  },
  {
   "cell_type": "code",
   "execution_count": 13,
   "metadata": {},
   "outputs": [
    {
     "ename": "",
     "evalue": "",
     "output_type": "error",
     "traceback": [
      "\u001b[1;31mDer Kernel ist beim Ausführen von Code in der aktuellen Zelle oder einer vorherigen Zelle abgestürzt. \n",
      "\u001b[1;31mBitte überprüfen Sie den Code in der/den Zelle(n), um eine mögliche Fehlerursache zu identifizieren. \n",
      "\u001b[1;31mKlicken Sie <a href='https://aka.ms/vscodeJupyterKernelCrash'>hier</a>, um weitere Informationen zu erhalten. \n",
      "\u001b[1;31mWeitere Informationen finden Sie unter Jupyter <a href='command:jupyter.viewOutput'>Protokoll</a>."
     ]
    }
   ],
   "source": [
    "text = tira.pd.inputs(\n",
    "    \"nlpbuw-fsu-sose-24\", \"language-identification-validation-20240429-training\"\n",
    ")\n",
    "text = text.set_index(\"id\")\n",
    "labels = tira.pd.truths(\n",
    "    \"nlpbuw-fsu-sose-24\", \"language-identification-validation-20240429-training\"\n",
    ")\n",
    "df = text.join(labels.set_index(\"id\"))\n",
    "predictions = [model.predict(text)[0][0] for text in df[\"text\"]]"
   ]
  },
  {
   "cell_type": "code",
   "execution_count": 9,
   "metadata": {},
   "outputs": [],
   "source": [
    "def convert_labels_to_lang(predictions):\n",
    "    lang_labels = {\n",
    "        '__label__af': 'af',\n",
    "        '__label__az': 'az',\n",
    "        '__label__bg': 'bg',\n",
    "        '__label__cs': 'cs',\n",
    "        '__label__da': 'da',\n",
    "        '__label__de': 'de',\n",
    "        '__label__el': 'el',\n",
    "        '__label__en': 'en',\n",
    "        '__label__es': 'es',\n",
    "        '__label__fi': 'fi',\n",
    "        '__label__fr': 'fr',\n",
    "        '__label__hr': 'hr',\n",
    "        '__label__it': 'it',\n",
    "        '__label__ko': 'ko',\n",
    "        '__label__nl': 'nl',\n",
    "        '__label__no': 'no',\n",
    "        '__label__pl': 'pl',\n",
    "        '__label__ru': 'ru',\n",
    "        '__label__ur': 'ur',\n",
    "        '__label__zh': 'zh'\n",
    "    }\n",
    "    converted_predictions = []\n",
    "    for prediction in predictions:\n",
    "        if prediction in lang_labels:\n",
    "            converted_predictions.append(lang_labels[prediction])\n",
    "\n",
    "    return converted_predictions"
   ]
  },
  {
   "cell_type": "code",
   "execution_count": 10,
   "metadata": {},
   "outputs": [],
   "source": [
    "preds= convert_labels_to_lang(predictions)"
   ]
  },
  {
   "cell_type": "code",
   "execution_count": 11,
   "metadata": {},
   "outputs": [
    {
     "name": "stdout",
     "output_type": "stream",
     "text": [
      "Evaluationsergebnisse: {'Accuracy': 0.997125, 'Precision': 0.9971408205889292, 'Recall': 0.9971250000000002, 'F1-Score': 0.9971291066831128}\n"
     ]
    }
   ],
   "source": [
    "from sklearn.metrics import accuracy_score, precision_score, recall_score, f1_score\n",
    "\n",
    "def evaluate_classification(true_labels, predicted_labels):\n",
    "    \"\"\"\n",
    "    Berechnet die Accuracy, Precision, Recall und F1-Score für eine Klassifikationsaufgabe.\n",
    "\n",
    "    Args:\n",
    "    true_labels (list): Die echten Labels.\n",
    "    predicted_labels (list): Die vorhergesagten Labels.\n",
    "\n",
    "    Returns:\n",
    "    dict: Ein Dictionary mit Accuracy, Precision, Recall und F1-Score.\n",
    "    \"\"\"\n",
    "    accuracy = accuracy_score(true_labels, predicted_labels)\n",
    "    precision = precision_score(true_labels, predicted_labels, average='macro')\n",
    "    recall = recall_score(true_labels, predicted_labels, average='macro')\n",
    "    f1 = f1_score(true_labels, predicted_labels, average='macro')\n",
    "\n",
    "    evaluation_results = {\n",
    "        \"Accuracy\": accuracy,\n",
    "        \"Precision\": precision,\n",
    "        \"Recall\": recall,\n",
    "        \"F1-Score\": f1\n",
    "    }\n",
    "\n",
    "    return evaluation_results\n",
    "\n",
    "# Beispielaufruf:\n",
    "evaluation_results = evaluate_classification(df[\"lang\"], preds)\n",
    "print(\"Evaluationsergebnisse:\", evaluation_results)"
   ]
  }
 ],
 "metadata": {
  "kernelspec": {
   "display_name": "base",
   "language": "python",
   "name": "python3"
  },
  "language_info": {
   "codemirror_mode": {
    "name": "ipython",
    "version": 3
   },
   "file_extension": ".py",
   "mimetype": "text/x-python",
   "name": "python",
   "nbconvert_exporter": "python",
   "pygments_lexer": "ipython3",
   "version": "3.12.2"
  }
 },
 "nbformat": 4,
 "nbformat_minor": 2
}
