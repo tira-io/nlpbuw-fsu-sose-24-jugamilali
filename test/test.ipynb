{
 "cells": [
  {
   "cell_type": "code",
   "execution_count": 1,
   "metadata": {},
   "outputs": [
    {
     "name": "stdout",
     "output_type": "stream",
     "text": [
      "Requirement already satisfied: tira in /opt/conda/lib/python3.12/site-packages (0.0.126)\n",
      "Requirement already satisfied: requests==2.*,>=2.26 in /opt/conda/lib/python3.12/site-packages (from tira) (2.31.0)\n",
      "Requirement already satisfied: docker==6.*,>=6.0.0 in /opt/conda/lib/python3.12/site-packages (from tira) (6.1.3)\n",
      "Requirement already satisfied: pandas in /opt/conda/lib/python3.12/site-packages (from tira) (2.2.2)\n",
      "Requirement already satisfied: tqdm in /opt/conda/lib/python3.12/site-packages (from tira) (4.65.0)\n",
      "Requirement already satisfied: packaging>=14.0 in /opt/conda/lib/python3.12/site-packages (from docker==6.*,>=6.0.0->tira) (23.2)\n",
      "Requirement already satisfied: urllib3>=1.26.0 in /opt/conda/lib/python3.12/site-packages (from docker==6.*,>=6.0.0->tira) (2.1.0)\n",
      "Requirement already satisfied: websocket-client>=0.32.0 in /opt/conda/lib/python3.12/site-packages (from docker==6.*,>=6.0.0->tira) (1.8.0)\n",
      "Requirement already satisfied: charset-normalizer<4,>=2 in /opt/conda/lib/python3.12/site-packages (from requests==2.*,>=2.26->tira) (2.0.4)\n",
      "Requirement already satisfied: idna<4,>=2.5 in /opt/conda/lib/python3.12/site-packages (from requests==2.*,>=2.26->tira) (3.4)\n",
      "Requirement already satisfied: certifi>=2017.4.17 in /opt/conda/lib/python3.12/site-packages (from requests==2.*,>=2.26->tira) (2024.2.2)\n",
      "Requirement already satisfied: numpy>=1.26.0 in /opt/conda/lib/python3.12/site-packages (from pandas->tira) (1.26.4)\n",
      "Requirement already satisfied: python-dateutil>=2.8.2 in /opt/conda/lib/python3.12/site-packages (from pandas->tira) (2.9.0.post0)\n",
      "Requirement already satisfied: pytz>=2020.1 in /opt/conda/lib/python3.12/site-packages (from pandas->tira) (2024.1)\n",
      "Requirement already satisfied: tzdata>=2022.7 in /opt/conda/lib/python3.12/site-packages (from pandas->tira) (2024.1)\n",
      "Requirement already satisfied: six>=1.5 in /opt/conda/lib/python3.12/site-packages (from python-dateutil>=2.8.2->pandas->tira) (1.16.0)\n",
      "\u001b[33mWARNING: Running pip as the 'root' user can result in broken permissions and conflicting behaviour with the system package manager. It is recommended to use a virtual environment instead: https://pip.pypa.io/warnings/venv\u001b[0m\u001b[33m\n",
      "\u001b[0m"
     ]
    }
   ],
   "source": [
    "!pip install tira"
   ]
  },
  {
   "cell_type": "code",
   "execution_count": 2,
   "metadata": {},
   "outputs": [],
   "source": [
    "from tira.rest_api_client import Client\n",
    "\n",
    "tira = Client()\n",
    "df_val = tira.pd.inputs(\n",
    "    \"nlpbuw-fsu-sose-24\", \"summarization-validation-20240530-training\"\n",
    ").set_index(\"id\")"
   ]
  },
  {
   "cell_type": "code",
   "execution_count": 4,
   "metadata": {},
   "outputs": [],
   "source": [
    "df_train = tira.pd.inputs(\n",
    "    \"nlpbuw-fsu-sose-24\", \"summarization-train-20240530-training\"\n",
    ").set_index(\"id\")"
   ]
  },
  {
   "cell_type": "code",
   "execution_count": 5,
   "metadata": {},
   "outputs": [
    {
     "name": "stdout",
     "output_type": "stream",
     "text": [
      "                                                   story\n",
      "id                                                      \n",
      "9113   (CNN) -- Friday marks the passage of one month...\n",
      "86209  Severe storms tore through the Midwest and Sou...\n",
      "14346  (CNN) -- High ranking officials in North Korea...\n",
      "79198  Tuscaloosa, Alabama (CNN) -- Dazed Southerners...\n",
      "23703  CHICAGO, Illinois (CNN) -- A man suspected of ...\n",
      "...                                                  ...\n",
      "90872  (CNN)Latest developments:\\n• Transponder data ...\n",
      "87221  Two international crises are giving Republican...\n",
      "46907  (CNN) -- \"To report the state of the union.\"\\n...\n",
      "12763  Phoenix, Arizona (CNN) -- The legal battle ove...\n",
      "68280  Washington (CNN) -- Prosecutors hope to determ...\n",
      "\n",
      "[5000 rows x 1 columns]\n"
     ]
    }
   ],
   "source": [
    "print(df_train)"
   ]
  },
  {
   "cell_type": "code",
   "execution_count": 6,
   "metadata": {},
   "outputs": [
    {
     "name": "stderr",
     "output_type": "stream",
     "text": [
      "[nltk_data] Downloading package stopwords to /root/nltk_data...\n",
      "[nltk_data]   Package stopwords is already up-to-date!\n",
      "[nltk_data] Downloading package punkt to /root/nltk_data...\n",
      "[nltk_data]   Package punkt is already up-to-date!\n"
     ]
    }
   ],
   "source": [
    "import re\n",
    "import nltk\n",
    "from nltk.corpus import stopwords\n",
    "from nltk.tokenize import sent_tokenize, word_tokenize\n",
    "\n",
    "# Download stopwords if not already done\n",
    "nltk.download('stopwords')\n",
    "nltk.download('punkt')\n",
    "\n",
    "# Define a function to clean and preprocess the text\n",
    "def preprocess_text(text):\n",
    "    # Remove unwanted characters and convert to lowercase\n",
    "    text = re.sub(r'\\s+', ' ', text)  # Remove extra spaces\n",
    "    text = re.sub(r'\\n', ' ', text)  # Remove newlines\n",
    "    text = text.lower()\n",
    "    \n",
    "    # Tokenize text\n",
    "    sentences = sent_tokenize(text)\n",
    "    words = [word_tokenize(sentence) for sentence in sentences]\n",
    "    \n",
    "    # Remove stopwords\n",
    "    stop_words = set(stopwords.words('english'))\n",
    "    words = [[word for word in sentence if word.isalnum() and word not in stop_words] for sentence in words]\n",
    "    \n",
    "    # Reconstruct the cleaned text\n",
    "    cleaned_text = ' '.join([' '.join(sentence) for sentence in words])\n",
    "    \n",
    "    return cleaned_text\n",
    "\n"
   ]
  },
  {
   "cell_type": "code",
   "execution_count": 7,
   "metadata": {},
   "outputs": [],
   "source": [
    "# Apply preprocessing\n",
    "df_train['cleaned_story'] = df_train['story'].apply(preprocess_text)\n",
    "df_val['cleaned_story'] = df_val['story'].apply(preprocess_text)"
   ]
  },
  {
   "cell_type": "code",
   "execution_count": 11,
   "metadata": {},
   "outputs": [],
   "source": [
    "from transformers import pipeline\n",
    "from tqdm import tqdm\n",
    "\n",
    "# Load summarization pipeline with BART\n",
    "summarizer = pipeline(\"summarization\", model=\"facebook/bart-large-cnn\")\n",
    "\n",
    "# Function to summarize text\n",
    "def summarize_texts(texts):\n",
    "    summaries = []\n",
    "    for text in tqdm(texts, desc=\"Summarizing texts\"):\n",
    "        # The max_length and min_length can be adjusted based on your requirements\n",
    "        summary = summarizer(text, max_length=150, min_length=40, do_sample=False)\n",
    "        summaries.append(summary[0]['summary_text'])\n",
    "    return summaries"
   ]
  },
  {
   "cell_type": "code",
   "execution_count": 12,
   "metadata": {},
   "outputs": [
    {
     "ename": "",
     "evalue": "",
     "output_type": "error",
     "traceback": [
      "\u001b[1;31mDer Kernel ist beim Ausführen von Code in der aktuellen Zelle oder einer vorherigen Zelle abgestürzt. \n",
      "\u001b[1;31mBitte überprüfen Sie den Code in der/den Zelle(n), um eine mögliche Fehlerursache zu identifizieren. \n",
      "\u001b[1;31mKlicken Sie <a href='https://aka.ms/vscodeJupyterKernelCrash'>hier</a>, um weitere Informationen zu erhalten. \n",
      "\u001b[1;31mWeitere Informationen finden Sie unter Jupyter <a href='command:jupyter.viewOutput'>Protokoll</a>."
     ]
    }
   ],
   "source": [
    "# Apply summarization\n",
    "df_val['summary'] = df_val['cleaned_story'].apply(summarize_text)\n",
    "\n",
    "# Display the dataframe with summaries\n",
    "print(df_val[['story', 'summary']].head())"
   ]
  }
 ],
 "metadata": {
  "kernelspec": {
   "display_name": "base",
   "language": "python",
   "name": "python3"
  },
  "language_info": {
   "codemirror_mode": {
    "name": "ipython",
    "version": 3
   },
   "file_extension": ".py",
   "mimetype": "text/x-python",
   "name": "python",
   "nbconvert_exporter": "python",
   "pygments_lexer": "ipython3",
   "version": "3.12.2"
  }
 },
 "nbformat": 4,
 "nbformat_minor": 2
}
