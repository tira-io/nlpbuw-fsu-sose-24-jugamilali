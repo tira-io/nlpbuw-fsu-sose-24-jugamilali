{
 "cells": [
  {
   "cell_type": "code",
   "execution_count": 2,
   "metadata": {},
   "outputs": [],
   "source": [
    "from pathlib import Path\n",
    "\n",
    "from tira.rest_api_client import Client\n",
    "from tira.third_party_integrations import get_output_directory\n",
    "\n",
    "if __name__ == \"__main__\":\n",
    "\n",
    "    tira = Client()\n",
    "\n",
    "    # loading train data\n",
    "    text_train = tira.pd.inputs(\n",
    "        \"nlpbuw-fsu-sose-24\", \"authorship-verification-train-20240408-training\"\n",
    "    )\n",
    "    targets_train = tira.pd.truths(\n",
    "        \"nlpbuw-fsu-sose-24\", \"authorship-verification-train-20240408-training\"\n",
    "    )\n",
    "    # loading validation data (automatically replaced by test data when run on tira)\n",
    "    text_validation = tira.pd.inputs(\n",
    "        \"nlpbuw-fsu-sose-24\", \"authorship-verification-validation-20240408-training\"\n",
    "    )\n",
    "    targets_validation = tira.pd.truths(\n",
    "        \"nlpbuw-fsu-sose-24\", \"authorship-verification-validation-20240408-training\"\n",
    "    )"
   ]
  },
  {
   "cell_type": "code",
   "execution_count": 60,
   "metadata": {},
   "outputs": [],
   "source": [
    "import pandas as pd\n",
    "\n",
    "merged_train = pd.merge(text_train, targets_train, on='id')\n",
    "merged_validation = pd.merge(text_validation, targets_validation, on='id')\n"
   ]
  },
  {
   "cell_type": "code",
   "execution_count": 61,
   "metadata": {},
   "outputs": [],
   "source": [
    "from sklearn.feature_extraction.text import TfidfVectorizer\n",
    "\n",
    "tfidf_vectorizer = TfidfVectorizer(max_features=8000)\n",
    "x_train = tfidf_vectorizer.fit_transform(merged_train['text']).toarray()\n",
    "x_validation = tfidf_vectorizer.fit_transform(merged_validation['text']).toarray()\n",
    "\n",
    "y_train = merged_train['generated']\n",
    "y_validation = merged_validation['generated']"
   ]
  },
  {
   "cell_type": "code",
   "execution_count": 62,
   "metadata": {},
   "outputs": [],
   "source": [
    "# x_train_with_id = pd.DataFrame(x_train, columns=tfidf_vectorizer.get_feature_names_out())\n",
    "# x_train_with_id['id'] = merged_train['id']\n",
    "# y_train_with_id = pd.DataFrame({'generated': y_train, 'id': merged_train['id']})\n",
    "\n",
    "# x_validation_with_id = pd.DataFrame(x_train, columns=tfidf_vectorizer.get_feature_names_out())\n",
    "# x_validation_with_id['id'] = merged_validation['id']\n",
    "# y_validation_with_id = pd.DataFrame({'generated': y_train, 'id': merged_validation['id']})"
   ]
  },
  {
   "cell_type": "code",
   "execution_count": 65,
   "metadata": {},
   "outputs": [
    {
     "name": "stdout",
     "output_type": "stream",
     "text": [
      "Accuracy: 0.5\n"
     ]
    }
   ],
   "source": [
    "from sklearn.linear_model import LogisticRegression\n",
    "\n",
    "# Create a logistic regression model\n",
    "model = LogisticRegression()\n",
    "\n",
    "# Fit the model to the training data\n",
    "model.fit(x_train, y_train)\n",
    "\n",
    "# Make predictions on the test data\n",
    "predictions = model.predict(x_validation)\n",
    "\n",
    "# Evaluate the model\n",
    "accuracy = model.score(x_validation, y_validation)\n",
    "print(\"Accuracy:\", accuracy)"
   ]
  },
  {
   "cell_type": "code",
   "execution_count": 67,
   "metadata": {},
   "outputs": [
    {
     "name": "stdout",
     "output_type": "stream",
     "text": [
      "0.6666666666666666\n"
     ]
    }
   ],
   "source": [
    "from sklearn.metrics import f1_score\n",
    "\n",
    "f1 = f1_score(y_validation, predictions)\n",
    "print(f1)"
   ]
  }
 ],
 "metadata": {
  "kernelspec": {
   "display_name": "base",
   "language": "python",
   "name": "python3"
  },
  "language_info": {
   "codemirror_mode": {
    "name": "ipython",
    "version": 3
   },
   "file_extension": ".py",
   "mimetype": "text/x-python",
   "name": "python",
   "nbconvert_exporter": "python",
   "pygments_lexer": "ipython3",
   "version": "3.12.2"
  }
 },
 "nbformat": 4,
 "nbformat_minor": 2
}
